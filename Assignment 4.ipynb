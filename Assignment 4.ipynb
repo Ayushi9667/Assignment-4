{
 "cells": [
  {
   "cell_type": "markdown",
   "id": "288fafd7-a330-4acf-840f-9d1cff947957",
   "metadata": {},
   "source": [
    "Q2. Write a Python Program to find the squares of all the numbers in the given list of integers using \n",
    "lambda and map functions.\n",
    "\n",
    "\n",
    "[1, 2, 3, 4, 5, 6, 7, 8, 9, 10]"
   ]
  },
  {
   "cell_type": "code",
   "execution_count": 1,
   "id": "68f456f8-f9c8-4f26-8da9-53d72925bfda",
   "metadata": {},
   "outputs": [],
   "source": [
    "l=[1, 2, 3, 4, 5, 6, 7, 8, 9, 10]"
   ]
  },
  {
   "cell_type": "code",
   "execution_count": 3,
   "id": "56209786-f78a-47cd-b7ad-bcd64a095b3b",
   "metadata": {},
   "outputs": [
    {
     "data": {
      "text/plain": [
       "[1, 4, 9, 16, 25, 36, 49, 64, 81, 100]"
      ]
     },
     "execution_count": 3,
     "metadata": {},
     "output_type": "execute_result"
    }
   ],
   "source": [
    "list(map(lambda x:x**2, l))"
   ]
  },
  {
   "cell_type": "markdown",
   "id": "698b6a1d-3fa6-4d9e-bf4d-5f2a8146a8d7",
   "metadata": {},
   "source": [
    "Q3. Write a python program to convert the given list of integers into a tuple of strings. Use map and \n",
    "lambda functions\n",
    "\n",
    "\n",
    "Given String: [1, 2, 3, 4, 5, 6, 7, 8, 9, 10]\n",
    "\n",
    "Expected output: ('1', '2', '3', '4', '5', '6', '7', '8', '9', '10')"
   ]
  },
  {
   "cell_type": "code",
   "execution_count": 4,
   "id": "b29a3178-fd4d-436e-9d71-592045f54fe7",
   "metadata": {},
   "outputs": [],
   "source": [
    "l1=[1, 2, 3, 4, 5, 6, 7, 8, 9, 10]"
   ]
  },
  {
   "cell_type": "code",
   "execution_count": 7,
   "id": "10b69c83-411b-41e9-bfca-5853c4014202",
   "metadata": {},
   "outputs": [
    {
     "data": {
      "text/plain": [
       "('1', '2', '3', '4', '5', '6', '7', '8', '9', '10')"
      ]
     },
     "execution_count": 7,
     "metadata": {},
     "output_type": "execute_result"
    }
   ],
   "source": [
    "tuple(map(lambda x:str(x), l))"
   ]
  },
  {
   "cell_type": "markdown",
   "id": "67559004-72cc-49b3-b335-62cc4b9c1f92",
   "metadata": {},
   "source": [
    "Q4.  Write a python program using reduce function to compute the product of a list containing numbers \n",
    "from 1 to 25."
   ]
  },
  {
   "cell_type": "code",
   "execution_count": 16,
   "id": "d8d5bfd2-a0b8-4365-b69f-85f3460b6e3f",
   "metadata": {},
   "outputs": [],
   "source": [
    "l= range(1,26)"
   ]
  },
  {
   "cell_type": "code",
   "execution_count": 17,
   "id": "83a634b5-0e6d-4d92-8937-4e253fd4c717",
   "metadata": {},
   "outputs": [],
   "source": [
    "from functools import reduce "
   ]
  },
  {
   "cell_type": "code",
   "execution_count": 18,
   "id": "8402bc10-59f3-4ec0-b602-bd08c81493bc",
   "metadata": {},
   "outputs": [
    {
     "data": {
      "text/plain": [
       "15511210043330985984000000"
      ]
     },
     "execution_count": 18,
     "metadata": {},
     "output_type": "execute_result"
    }
   ],
   "source": [
    "reduce(lambda x,y: x*y , l)"
   ]
  },
  {
   "cell_type": "markdown",
   "id": "c46bf08f-01e6-42da-8c2a-0e86adbab7b1",
   "metadata": {},
   "source": [
    "Q5. Write a python program to filter the numbers in a given list that are divisible by 2 and 3 using the \n",
    "filter function.\n",
    "\n",
    "\n",
    "[2, 3, 6, 9, 27, 60, 90, 120, 55, 46]"
   ]
  },
  {
   "cell_type": "code",
   "execution_count": 19,
   "id": "4f9d5a53-46b5-4d51-8a2c-52fdf05d811a",
   "metadata": {},
   "outputs": [],
   "source": [
    "l2=[2,3,6,9,27,60,90,120,55,46]"
   ]
  },
  {
   "cell_type": "code",
   "execution_count": 21,
   "id": "a0c61cc0-cb51-465c-bfdf-a36220850a3c",
   "metadata": {},
   "outputs": [
    {
     "data": {
      "text/plain": [
       "[6, 12, 18, 24]"
      ]
     },
     "execution_count": 21,
     "metadata": {},
     "output_type": "execute_result"
    }
   ],
   "source": [
    "list(filter(lambda x :  x%2==0 and x%3==0, l))"
   ]
  },
  {
   "cell_type": "markdown",
   "id": "31a75d85-1e48-414f-aefa-56295fc9b8fe",
   "metadata": {},
   "source": [
    "Q1. Create a python program to sort the given list of tuples based on integer value using a \n",
    "lambda function. \n",
    "\n",
    "\n",
    "[('Sachin Tendulkar', 34357), ('Ricky Ponting', 27483), ('Jack Kallis', 25534), ('Virat Kohli', 24936)]"
   ]
  },
  {
   "cell_type": "code",
   "execution_count": 22,
   "id": "98522143-2e6c-4a0e-a9d0-8e609d2eabcb",
   "metadata": {},
   "outputs": [],
   "source": [
    "list_of_tuple = [('Sachin Tendulkar', 34357), ('Ricky Ponting', 27483), ('Jack Kallis', 25534), ('Virat Kohli', 24936)]\n"
   ]
  },
  {
   "cell_type": "code",
   "execution_count": 33,
   "id": "5e9af691-5f5b-467d-b4af-ad39ff1ce543",
   "metadata": {},
   "outputs": [],
   "source": [
    "list_of_tuple.sort(key = lambda x: x[1])"
   ]
  },
  {
   "cell_type": "code",
   "execution_count": 34,
   "id": "b137638f-a090-44db-9d11-7aea3cedaf22",
   "metadata": {},
   "outputs": [
    {
     "data": {
      "text/plain": [
       "[('Virat Kohli', 24936),\n",
       " ('Jack Kallis', 25534),\n",
       " ('Ricky Ponting', 27483),\n",
       " ('Sachin Tendulkar', 34357)]"
      ]
     },
     "execution_count": 34,
     "metadata": {},
     "output_type": "execute_result"
    }
   ],
   "source": [
    "list_of_tuple"
   ]
  },
  {
   "cell_type": "markdown",
   "id": "c426e878-f156-489c-9f11-8fc06766d965",
   "metadata": {},
   "source": [
    "Q6. Write a python program to find palindromes in the given list of strings using lambda and filter \n",
    "function.\n",
    "\n",
    "\n",
    "['python', 'php', 'aba', 'radar', 'level']"
   ]
  },
  {
   "cell_type": "code",
   "execution_count": 9,
   "id": "4e0acbb0-b93d-404f-b45d-26aedd8cac3f",
   "metadata": {},
   "outputs": [],
   "source": [
    "l=['python', 'php', 'aba', 'radar', 'level']"
   ]
  },
  {
   "cell_type": "code",
   "execution_count": 10,
   "id": "00fa21c0-0dec-4716-8ed4-8e1e76b7b5bb",
   "metadata": {},
   "outputs": [
    {
     "name": "stdin",
     "output_type": "stream",
     "text": [
      "enter the string:  php\n"
     ]
    },
    {
     "name": "stdout",
     "output_type": "stream",
     "text": [
      "palindromes string\n"
     ]
    }
   ],
   "source": [
    "a= input(\"enter the string: \")\n",
    "b=a[-1::-1]\n",
    "if(a==b):\n",
    "    print(\"palindromes string\")\n",
    "else:\n",
    "    print(\" not palindromes string\")"
   ]
  },
  {
   "cell_type": "code",
   "execution_count": 11,
   "id": "c75c89c7-f402-4305-8356-168f5cf5243e",
   "metadata": {},
   "outputs": [
    {
     "data": {
      "text/plain": [
       "['php']"
      ]
     },
     "execution_count": 11,
     "metadata": {},
     "output_type": "execute_result"
    }
   ],
   "source": [
    "list(filter(lambda x : x==a , l))"
   ]
  },
  {
   "cell_type": "code",
   "execution_count": 13,
   "id": "516ccaf6-7771-48fc-bb01-6583f7272033",
   "metadata": {},
   "outputs": [],
   "source": [
    "l=['python', 'php', 'aba', 'radar', 'level'] \n"
   ]
  },
  {
   "cell_type": "code",
   "execution_count": null,
   "id": "3c6a7ffe-2128-4d76-a1b9-3be884f082be",
   "metadata": {},
   "outputs": [],
   "source": []
  }
 ],
 "metadata": {
  "kernelspec": {
   "display_name": "Python 3 (ipykernel)",
   "language": "python",
   "name": "python3"
  },
  "language_info": {
   "codemirror_mode": {
    "name": "ipython",
    "version": 3
   },
   "file_extension": ".py",
   "mimetype": "text/x-python",
   "name": "python",
   "nbconvert_exporter": "python",
   "pygments_lexer": "ipython3",
   "version": "3.10.8"
  }
 },
 "nbformat": 4,
 "nbformat_minor": 5
}
